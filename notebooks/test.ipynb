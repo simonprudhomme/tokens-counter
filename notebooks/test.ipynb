{
 "cells": [
  {
   "cell_type": "code",
   "execution_count": 1,
   "metadata": {},
   "outputs": [],
   "source": [
    "import pandas as pd\n",
    "import numpy as np"
   ]
  },
  {
   "cell_type": "code",
   "execution_count": 27,
   "metadata": {},
   "outputs": [],
   "source": [
    "# create a 10 row dataframe with a column 'text'\n",
    "\n",
    "# function to create lorem ipsum text\n",
    "def lorem_ipsum(n):\n",
    "    letters = 'abcdefghijklmnopqrstuvwxyz'\n",
    "    words = [''.join([letters[i] for i in np.random.randint(0, 26, 5)]) for _ in range(n)]\n",
    "    return ' '.join(words)\n",
    "\n",
    "n_rows = 1000\n",
    "data = pd.DataFrame({'text': [lorem_ipsum(np.random.randint(1, 10001)) for _ in range(n_rows)]})"
   ]
  },
  {
   "cell_type": "code",
   "execution_count": 29,
   "metadata": {},
   "outputs": [],
   "source": [
    "data.to_csv('../data/test.csv')"
   ]
  },
  {
   "cell_type": "code",
   "execution_count": null,
   "metadata": {},
   "outputs": [],
   "source": []
  }
 ],
 "metadata": {
  "kernelspec": {
   "display_name": "token_counter-v0-bc5Gc",
   "language": "python",
   "name": "python3"
  },
  "language_info": {
   "codemirror_mode": {
    "name": "ipython",
    "version": 3
   },
   "file_extension": ".py",
   "mimetype": "text/x-python",
   "name": "python",
   "nbconvert_exporter": "python",
   "pygments_lexer": "ipython3",
   "version": "3.9.6"
  },
  "orig_nbformat": 4
 },
 "nbformat": 4,
 "nbformat_minor": 2
}
